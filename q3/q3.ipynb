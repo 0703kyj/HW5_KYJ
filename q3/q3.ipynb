{
 "cells": [
  {
   "cell_type": "code",
   "execution_count": 42,
   "id": "2d4aae59",
   "metadata": {},
   "outputs": [
    {
     "name": "stdout",
     "output_type": "stream",
     "text": [
      "*** Subway Report for Seoul on March 2023 ***\n",
      "1st Busiest Line: Line 2 (85620512)\n",
      "2nd Busiest Line: Line 5 (39671990)\n",
      "1st Least used Line: Line 8 (11863928)\n",
      "2nd Least used Line: Line 1 (14705833)\n"
     ]
    }
   ],
   "source": [
    "import csv\n",
    "def main():\n",
    "    f = open('q3.csv','r',encoding='cp949')\n",
    "    data = csv.reader(f,delimiter=',')\n",
    "    header = next(data)\n",
    "    busy=[0,0]\n",
    "    busy_line=[\"\",\"\"]\n",
    "    least=[float('inf'),float('inf')]\n",
    "    least_line=[\"\",\"\"]\n",
    "    total = {}\n",
    "    for row in data:\n",
    "        if row[-2] != '':\n",
    "            tmp2 = int(row[-2])\n",
    "        else: \n",
    "            continue\n",
    "        if row[-3] != '':\n",
    "            tmp3 = int(row[-3])\n",
    "        else: \n",
    "            continue\n",
    "        tmp = tmp2+tmp3\n",
    "        if row[1] in total:\n",
    "            total[row[1]] += tmp\n",
    "        else:\n",
    "            total[row[1]] = tmp\n",
    "        \n",
    "    isFirst=0\n",
    "    for i in total:\n",
    "#         print(type(busy[0]))\n",
    "#         print(i,\":\",total[i])\n",
    "        if isFirst==0:\n",
    "            busy[0] = total[i]\n",
    "            busy_line[0] = i\n",
    "            busy[1] = total[i]\n",
    "            busy_line[1] = i\n",
    "            least[0] = total[i]\n",
    "            least_line[0] = i\n",
    "            least[1] = total[i]\n",
    "            least_line[1] = i\n",
    "            isFirst=1\n",
    "        else:\n",
    "            if total[i] >busy[0]:\n",
    "                busy[0] = total[i]\n",
    "                busy_line[0] = i\n",
    "            elif total[i] >busy[1]:\n",
    "                busy[1] = total[i]\n",
    "                busy_line[1] = i\n",
    "            if total[i]<least[0]:\n",
    "                least[0] = total[i]\n",
    "                least_line[0] = i\n",
    "            elif total[i]<least[1]:\n",
    "                least[1] = total[i]\n",
    "                least_line[1] = i\n",
    "            \n",
    "    print(\"*** Subway Report for Seoul on March 2023 ***\")\n",
    "    print(\"1st Busiest Line: Line\",busy_line[0][0],\"(%d)\"%busy[0])\n",
    "    print(\"2nd Busiest Line: Line\",busy_line[1][0],\"(%d)\"%busy[1])\n",
    "    print(\"1st Least used Line: Line\",least_line[0][0],\"(%d)\"%least[0])\n",
    "    print(\"2nd Least used Line: Line\",least_line[1][0],\"(%d)\"%least[1])\n",
    "    \n",
    "    \n",
    "if __name__==\"__main__\":\n",
    "    main()"
   ]
  }
 ],
 "metadata": {
  "kernelspec": {
   "display_name": "Python 3 (ipykernel)",
   "language": "python",
   "name": "python3"
  },
  "language_info": {
   "codemirror_mode": {
    "name": "ipython",
    "version": 3
   },
   "file_extension": ".py",
   "mimetype": "text/x-python",
   "name": "python",
   "nbconvert_exporter": "python",
   "pygments_lexer": "ipython3",
   "version": "3.11.2"
  }
 },
 "nbformat": 4,
 "nbformat_minor": 5
}
