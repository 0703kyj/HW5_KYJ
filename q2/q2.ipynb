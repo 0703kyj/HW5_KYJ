{
 "cells": [
  {
   "cell_type": "code",
   "execution_count": 13,
   "id": "e5033cef",
   "metadata": {},
   "outputs": [
    {
     "name": "stdout",
     "output_type": "stream",
     "text": [
      "*** Annual Temperature Report for Seoul in 2022 ***\n",
      "Day with the Largest Temperature Variation: 2022-11-29\n",
      "Maximum Temperature Difference: 16.6 Celsius\n",
      "Day with the Largest Temperature Variation: 2022-06-29\n",
      "Minimum Temperature Difference: 1.7 Celsius\n"
     ]
    }
   ],
   "source": [
    "import csv\n",
    "def main():\n",
    "    f = open('q2.csv','r',encoding='cp949')\n",
    "    data = csv.reader(f,delimiter=',')\n",
    "    header = next(data)\n",
    "\n",
    "    large_date=\"\"\n",
    "    max_temp=0\n",
    "    small_date=\"\"\n",
    "    min_temp=float('inf')\n",
    "    count=0\n",
    "    for row in data:\n",
    "        if row[-1] != '':\n",
    "            tmp1 = float(row[-1])\n",
    "        else: continue\n",
    "        if row[-2] != '':\n",
    "            tmp2 = float(row[-2])\n",
    "        else: continue\n",
    "        date = row[0]\n",
    "        tmp = tmp1-tmp2\n",
    "        if tmp>max_temp:\n",
    "            max_temp = tmp\n",
    "            large_date = date\n",
    "        if tmp<min_temp:\n",
    "            min_temp = tmp\n",
    "            small_date = date\n",
    "        count+=1    \n",
    "\n",
    "    print(\"*** Annual Temperature Report for Seoul in 2022 ***\")\n",
    "    print(\"Day with the Largest Temperature Variation:\",large_date)\n",
    "    print(\"Maximum Temperature Difference:\",round(max_temp,1),\"Celsius\")\n",
    "    print(\"Day with the Largest Temperature Variation:\",small_date)\n",
    "    print(\"Minimum Temperature Difference:\",round(min_temp,1),\"Celsius\")\n",
    "    \n",
    "if __name__==\"__main__\":\n",
    "    main()"
   ]
  },
  {
   "cell_type": "code",
   "execution_count": null,
   "id": "1ae1143e",
   "metadata": {},
   "outputs": [],
   "source": []
  }
 ],
 "metadata": {
  "kernelspec": {
   "display_name": "Python 3 (ipykernel)",
   "language": "python",
   "name": "python3"
  },
  "language_info": {
   "codemirror_mode": {
    "name": "ipython",
    "version": 3
   },
   "file_extension": ".py",
   "mimetype": "text/x-python",
   "name": "python",
   "nbconvert_exporter": "python",
   "pygments_lexer": "ipython3",
   "version": "3.11.2"
  }
 },
 "nbformat": 4,
 "nbformat_minor": 5
}
