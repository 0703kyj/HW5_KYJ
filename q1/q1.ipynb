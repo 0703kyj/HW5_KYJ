{
 "cells": [
  {
   "cell_type": "code",
   "execution_count": 9,
   "id": "63f1f8d5",
   "metadata": {
    "scrolled": true
   },
   "outputs": [
    {
     "name": "stdout",
     "output_type": "stream",
     "text": [
      "*** Annual Temperature Report for Seoul in 2022 ***\n",
      "Average Temperature: 13.26 Celsius\n",
      "Average Minimum Temperature: 9.21 Celsius\n",
      "Average Maximum Temperature: 18.05 Celsius\n"
     ]
    }
   ],
   "source": [
    "import csv\n",
    "def main():\n",
    "    f = open('q1.csv','r',encoding='cp949')\n",
    "    data = csv.reader(f,delimiter=',')\n",
    "    header = next(data)\n",
    "\n",
    "    avg_temp = 0\n",
    "    min_temp = 0\n",
    "    max_temp = 0\n",
    "    count=0\n",
    "    for row in data:\n",
    "        if row[-1] != '':\n",
    "            tmp1 = float(row[-1])\n",
    "        else: \n",
    "            continue\n",
    "        if row[-2] != '':\n",
    "            tmp2 = float(row[-2])\n",
    "        else: \n",
    "            continue\n",
    "        if row[-3] != '':\n",
    "            tmp3 = float(row[-3])\n",
    "        else: \n",
    "            continue\n",
    "        count+=1\n",
    "        avg_temp+=tmp3\n",
    "        min_temp+=tmp2\n",
    "        max_temp+=tmp1\n",
    "    avg_temp/=count\n",
    "    min_temp/=count\n",
    "    max_temp/=count\n",
    "    print(\"*** Annual Temperature Report for Seoul in 2022 ***\")\n",
    "    print(\"Average Temperature:\",round(avg_temp,2),\"Celsius\")\n",
    "    print(\"Average Minimum Temperature:\",round(min_temp,2),\"Celsius\")\n",
    "    print(\"Average Maximum Temperature:\",round(max_temp,2),\"Celsius\")\n",
    "\n",
    "if __name__==\"__main__\":\n",
    "    main()"
   ]
  }
 ],
 "metadata": {
  "kernelspec": {
   "display_name": "Python 3 (ipykernel)",
   "language": "python",
   "name": "python3"
  },
  "language_info": {
   "codemirror_mode": {
    "name": "ipython",
    "version": 3
   },
   "file_extension": ".py",
   "mimetype": "text/x-python",
   "name": "python",
   "nbconvert_exporter": "python",
   "pygments_lexer": "ipython3",
   "version": "3.11.2"
  }
 },
 "nbformat": 4,
 "nbformat_minor": 5
}
