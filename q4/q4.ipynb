{
 "cells": [
  {
   "cell_type": "code",
   "execution_count": 11,
   "id": "d0d033cf",
   "metadata": {},
   "outputs": [
    {
     "name": "stdout",
     "output_type": "stream",
     "text": [
      "*** Subway Report for Seoul on March 2023 ***\n",
      "Line 1:\n",
      "Busiest Station: 서울역 (3084227)\n",
      "Least used Station: 동묘앞 (658566)\n",
      "Line 2:\n",
      "Busiest Station: 강남 (4690366)\n",
      "Least used Station: 도림천 (80084)\n",
      "Line 3:\n",
      "Busiest Station: 고속터미널 (2886887)\n",
      "Least used Station: 충무로 (48)\n",
      "Line 4:\n",
      "Busiest Station: 혜화 (2286709)\n",
      "Least used Station: 남태령 (79916)\n"
     ]
    }
   ],
   "source": [
    "import csv\n",
    "def main():\n",
    "    f = open('q4.csv','r',encoding='cp949')\n",
    "    data = csv.reader(f,delimiter=',')\n",
    "    header = next(data)\n",
    "    \n",
    "    busy_stat={}\n",
    "    busy_count={}\n",
    "    least_stat={}\n",
    "    least_count={}\n",
    "    \n",
    "    for row in data:\n",
    "        if row[-2] != '':\n",
    "            tmp2 = int(row[-2])\n",
    "        else: \n",
    "            continue\n",
    "        if row[-3] != '':\n",
    "            tmp3 = int(row[-3])\n",
    "        else: \n",
    "            continue\n",
    "        tmp = tmp2+tmp3\n",
    "        \n",
    "        if row[1] in busy_stat:\n",
    "            if tmp>busy_count[row[1]]:\n",
    "                busy_count[row[1]] = tmp\n",
    "                busy_stat[row[1]] = row[3]\n",
    "        else:\n",
    "            busy_count[row[1]] = tmp\n",
    "            busy_stat[row[1]] = row[3]\n",
    "        if row[1] in least_stat:\n",
    "            if tmp<least_count[row[1]]:\n",
    "                least_count[row[1]] = tmp\n",
    "                least_stat[row[1]] = row[3]\n",
    "        else:\n",
    "            least_count[row[1]] = tmp   \n",
    "            least_stat[row[1]] = row[3]\n",
    "            \n",
    "    print(\"*** Subway Report for Seoul on March 2023 ***\")\n",
    "    for i in busy_stat:\n",
    "        print(\"Line\",i[0]+\":\")\n",
    "        print(\"Busiest Station:\",busy_stat[i],\"(%d)\"%busy_count[i])\n",
    "        print(\"Least used Station:\",least_stat[i],\"(%d)\"%least_count[i])\n",
    "        \n",
    "if __name__==\"__main__\":\n",
    "    main()"
   ]
  }
 ],
 "metadata": {
  "kernelspec": {
   "display_name": "Python 3 (ipykernel)",
   "language": "python",
   "name": "python3"
  },
  "language_info": {
   "codemirror_mode": {
    "name": "ipython",
    "version": 3
   },
   "file_extension": ".py",
   "mimetype": "text/x-python",
   "name": "python",
   "nbconvert_exporter": "python",
   "pygments_lexer": "ipython3",
   "version": "3.11.2"
  }
 },
 "nbformat": 4,
 "nbformat_minor": 5
}
